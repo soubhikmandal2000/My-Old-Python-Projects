{
  "nbformat": 4,
  "nbformat_minor": 0,
  "metadata": {
    "colab": {
      "name": "Bank Customer's Churn Classifier.ipynb",
      "provenance": [],
      "collapsed_sections": []
    },
    "kernelspec": {
      "name": "python3",
      "display_name": "Python 3"
    },
    "accelerator": "GPU"
  },
  "cells": [
    {
      "cell_type": "markdown",
      "metadata": {
        "id": "4P1KDT-PKsOy",
        "colab_type": "text"
      },
      "source": [
        "# **Bank Customer's Churn Classification**\n",
        "*Classifying bank customers based on their previous bank activities, that they will exit/leave the bank or not.*\n",
        "\n",
        "*Dataset: https://www.kaggle.com/shrutimechlearn/churn-modelling*"
      ]
    },
    {
      "cell_type": "code",
      "metadata": {
        "id": "cuGnhcOCHc8l",
        "colab_type": "code",
        "colab": {
          "base_uri": "https://localhost:8080/",
          "height": 34
        },
        "outputId": "e223bf05-96c2-43ed-dcaa-8df25de2a83c"
      },
      "source": [
        "# Connecting Google Drive with Google Colab\n",
        "from google.colab import drive\n",
        "drive.mount('/content/drive/')"
      ],
      "execution_count": 1,
      "outputs": [
        {
          "output_type": "stream",
          "text": [
            "Drive already mounted at /content/drive/; to attempt to forcibly remount, call drive.mount(\"/content/drive/\", force_remount=True).\n"
          ],
          "name": "stdout"
        }
      ]
    },
    {
      "cell_type": "code",
      "metadata": {
        "id": "MPoJdCbeKX7f",
        "colab_type": "code",
        "colab": {}
      },
      "source": [
        "# Importing essential libraries\n",
        "import numpy as np\n",
        "import pandas as pd"
      ],
      "execution_count": 0,
      "outputs": []
    },
    {
      "cell_type": "code",
      "metadata": {
        "id": "UJJ6T8LoLHQK",
        "colab_type": "code",
        "colab": {}
      },
      "source": [
        "# Loading the dataset\n",
        "df = pd.read_csv('/content/drive/My Drive/Colab Notebooks/Datasets/Churn_Modelling.csv')"
      ],
      "execution_count": 0,
      "outputs": []
    },
    {
      "cell_type": "markdown",
      "metadata": {
        "id": "u7mU2LUTLUj5",
        "colab_type": "text"
      },
      "source": [
        "# **Exploring the dataset**"
      ]
    },
    {
      "cell_type": "code",
      "metadata": {
        "id": "jywL9F9_LTjh",
        "colab_type": "code",
        "colab": {
          "base_uri": "https://localhost:8080/",
          "height": 34
        },
        "outputId": "bdf60c39-6fe0-4d94-f2d7-a50d24c87f6d"
      },
      "source": [
        "df.shape"
      ],
      "execution_count": 4,
      "outputs": [
        {
          "output_type": "execute_result",
          "data": {
            "text/plain": [
              "(10000, 14)"
            ]
          },
          "metadata": {
            "tags": []
          },
          "execution_count": 4
        }
      ]
    },
    {
      "cell_type": "code",
      "metadata": {
        "id": "YN7vU6m-LZoI",
        "colab_type": "code",
        "colab": {
          "base_uri": "https://localhost:8080/",
          "height": 87
        },
        "outputId": "59ba82d2-ca25-484d-e42b-edad49b1179e"
      },
      "source": [
        "df.columns"
      ],
      "execution_count": 5,
      "outputs": [
        {
          "output_type": "execute_result",
          "data": {
            "text/plain": [
              "Index(['RowNumber', 'CustomerId', 'Surname', 'CreditScore', 'Geography',\n",
              "       'Gender', 'Age', 'Tenure', 'Balance', 'NumOfProducts', 'HasCrCard',\n",
              "       'IsActiveMember', 'EstimatedSalary', 'Exited'],\n",
              "      dtype='object')"
            ]
          },
          "metadata": {
            "tags": []
          },
          "execution_count": 5
        }
      ]
    },
    {
      "cell_type": "code",
      "metadata": {
        "id": "b_I7URDSLbBJ",
        "colab_type": "code",
        "colab": {
          "base_uri": "https://localhost:8080/",
          "height": 283
        },
        "outputId": "496af466-e75d-4f8e-8374-abaa71353515"
      },
      "source": [
        "df.dtypes"
      ],
      "execution_count": 6,
      "outputs": [
        {
          "output_type": "execute_result",
          "data": {
            "text/plain": [
              "RowNumber            int64\n",
              "CustomerId           int64\n",
              "Surname             object\n",
              "CreditScore          int64\n",
              "Geography           object\n",
              "Gender              object\n",
              "Age                  int64\n",
              "Tenure               int64\n",
              "Balance            float64\n",
              "NumOfProducts        int64\n",
              "HasCrCard            int64\n",
              "IsActiveMember       int64\n",
              "EstimatedSalary    float64\n",
              "Exited               int64\n",
              "dtype: object"
            ]
          },
          "metadata": {
            "tags": []
          },
          "execution_count": 6
        }
      ]
    },
    {
      "cell_type": "code",
      "metadata": {
        "id": "TwYKW4CVLgtJ",
        "colab_type": "code",
        "colab": {
          "base_uri": "https://localhost:8080/",
          "height": 217
        },
        "outputId": "cda3fae4-8c6c-4aec-e0f3-390da82d65f9"
      },
      "source": [
        "df.head()"
      ],
      "execution_count": 7,
      "outputs": [
        {
          "output_type": "execute_result",
          "data": {
            "text/html": [
              "<div>\n",
              "<style scoped>\n",
              "    .dataframe tbody tr th:only-of-type {\n",
              "        vertical-align: middle;\n",
              "    }\n",
              "\n",
              "    .dataframe tbody tr th {\n",
              "        vertical-align: top;\n",
              "    }\n",
              "\n",
              "    .dataframe thead th {\n",
              "        text-align: right;\n",
              "    }\n",
              "</style>\n",
              "<table border=\"1\" class=\"dataframe\">\n",
              "  <thead>\n",
              "    <tr style=\"text-align: right;\">\n",
              "      <th></th>\n",
              "      <th>RowNumber</th>\n",
              "      <th>CustomerId</th>\n",
              "      <th>Surname</th>\n",
              "      <th>CreditScore</th>\n",
              "      <th>Geography</th>\n",
              "      <th>Gender</th>\n",
              "      <th>Age</th>\n",
              "      <th>Tenure</th>\n",
              "      <th>Balance</th>\n",
              "      <th>NumOfProducts</th>\n",
              "      <th>HasCrCard</th>\n",
              "      <th>IsActiveMember</th>\n",
              "      <th>EstimatedSalary</th>\n",
              "      <th>Exited</th>\n",
              "    </tr>\n",
              "  </thead>\n",
              "  <tbody>\n",
              "    <tr>\n",
              "      <th>0</th>\n",
              "      <td>1</td>\n",
              "      <td>15634602</td>\n",
              "      <td>Hargrave</td>\n",
              "      <td>619</td>\n",
              "      <td>France</td>\n",
              "      <td>Female</td>\n",
              "      <td>42</td>\n",
              "      <td>2</td>\n",
              "      <td>0.00</td>\n",
              "      <td>1</td>\n",
              "      <td>1</td>\n",
              "      <td>1</td>\n",
              "      <td>101348.88</td>\n",
              "      <td>1</td>\n",
              "    </tr>\n",
              "    <tr>\n",
              "      <th>1</th>\n",
              "      <td>2</td>\n",
              "      <td>15647311</td>\n",
              "      <td>Hill</td>\n",
              "      <td>608</td>\n",
              "      <td>Spain</td>\n",
              "      <td>Female</td>\n",
              "      <td>41</td>\n",
              "      <td>1</td>\n",
              "      <td>83807.86</td>\n",
              "      <td>1</td>\n",
              "      <td>0</td>\n",
              "      <td>1</td>\n",
              "      <td>112542.58</td>\n",
              "      <td>0</td>\n",
              "    </tr>\n",
              "    <tr>\n",
              "      <th>2</th>\n",
              "      <td>3</td>\n",
              "      <td>15619304</td>\n",
              "      <td>Onio</td>\n",
              "      <td>502</td>\n",
              "      <td>France</td>\n",
              "      <td>Female</td>\n",
              "      <td>42</td>\n",
              "      <td>8</td>\n",
              "      <td>159660.80</td>\n",
              "      <td>3</td>\n",
              "      <td>1</td>\n",
              "      <td>0</td>\n",
              "      <td>113931.57</td>\n",
              "      <td>1</td>\n",
              "    </tr>\n",
              "    <tr>\n",
              "      <th>3</th>\n",
              "      <td>4</td>\n",
              "      <td>15701354</td>\n",
              "      <td>Boni</td>\n",
              "      <td>699</td>\n",
              "      <td>France</td>\n",
              "      <td>Female</td>\n",
              "      <td>39</td>\n",
              "      <td>1</td>\n",
              "      <td>0.00</td>\n",
              "      <td>2</td>\n",
              "      <td>0</td>\n",
              "      <td>0</td>\n",
              "      <td>93826.63</td>\n",
              "      <td>0</td>\n",
              "    </tr>\n",
              "    <tr>\n",
              "      <th>4</th>\n",
              "      <td>5</td>\n",
              "      <td>15737888</td>\n",
              "      <td>Mitchell</td>\n",
              "      <td>850</td>\n",
              "      <td>Spain</td>\n",
              "      <td>Female</td>\n",
              "      <td>43</td>\n",
              "      <td>2</td>\n",
              "      <td>125510.82</td>\n",
              "      <td>1</td>\n",
              "      <td>1</td>\n",
              "      <td>1</td>\n",
              "      <td>79084.10</td>\n",
              "      <td>0</td>\n",
              "    </tr>\n",
              "  </tbody>\n",
              "</table>\n",
              "</div>"
            ],
            "text/plain": [
              "   RowNumber  CustomerId   Surname  ...  IsActiveMember EstimatedSalary Exited\n",
              "0          1    15634602  Hargrave  ...               1       101348.88      1\n",
              "1          2    15647311      Hill  ...               1       112542.58      0\n",
              "2          3    15619304      Onio  ...               0       113931.57      1\n",
              "3          4    15701354      Boni  ...               0        93826.63      0\n",
              "4          5    15737888  Mitchell  ...               1        79084.10      0\n",
              "\n",
              "[5 rows x 14 columns]"
            ]
          },
          "metadata": {
            "tags": []
          },
          "execution_count": 7
        }
      ]
    },
    {
      "cell_type": "code",
      "metadata": {
        "id": "QPYQ66BTMjDj",
        "colab_type": "code",
        "colab": {
          "base_uri": "https://localhost:8080/",
          "height": 217
        },
        "outputId": "256cb873-6875-437d-d273-47ead2a3f2b3"
      },
      "source": [
        "df.tail()"
      ],
      "execution_count": 8,
      "outputs": [
        {
          "output_type": "execute_result",
          "data": {
            "text/html": [
              "<div>\n",
              "<style scoped>\n",
              "    .dataframe tbody tr th:only-of-type {\n",
              "        vertical-align: middle;\n",
              "    }\n",
              "\n",
              "    .dataframe tbody tr th {\n",
              "        vertical-align: top;\n",
              "    }\n",
              "\n",
              "    .dataframe thead th {\n",
              "        text-align: right;\n",
              "    }\n",
              "</style>\n",
              "<table border=\"1\" class=\"dataframe\">\n",
              "  <thead>\n",
              "    <tr style=\"text-align: right;\">\n",
              "      <th></th>\n",
              "      <th>RowNumber</th>\n",
              "      <th>CustomerId</th>\n",
              "      <th>Surname</th>\n",
              "      <th>CreditScore</th>\n",
              "      <th>Geography</th>\n",
              "      <th>Gender</th>\n",
              "      <th>Age</th>\n",
              "      <th>Tenure</th>\n",
              "      <th>Balance</th>\n",
              "      <th>NumOfProducts</th>\n",
              "      <th>HasCrCard</th>\n",
              "      <th>IsActiveMember</th>\n",
              "      <th>EstimatedSalary</th>\n",
              "      <th>Exited</th>\n",
              "    </tr>\n",
              "  </thead>\n",
              "  <tbody>\n",
              "    <tr>\n",
              "      <th>9995</th>\n",
              "      <td>9996</td>\n",
              "      <td>15606229</td>\n",
              "      <td>Obijiaku</td>\n",
              "      <td>771</td>\n",
              "      <td>France</td>\n",
              "      <td>Male</td>\n",
              "      <td>39</td>\n",
              "      <td>5</td>\n",
              "      <td>0.00</td>\n",
              "      <td>2</td>\n",
              "      <td>1</td>\n",
              "      <td>0</td>\n",
              "      <td>96270.64</td>\n",
              "      <td>0</td>\n",
              "    </tr>\n",
              "    <tr>\n",
              "      <th>9996</th>\n",
              "      <td>9997</td>\n",
              "      <td>15569892</td>\n",
              "      <td>Johnstone</td>\n",
              "      <td>516</td>\n",
              "      <td>France</td>\n",
              "      <td>Male</td>\n",
              "      <td>35</td>\n",
              "      <td>10</td>\n",
              "      <td>57369.61</td>\n",
              "      <td>1</td>\n",
              "      <td>1</td>\n",
              "      <td>1</td>\n",
              "      <td>101699.77</td>\n",
              "      <td>0</td>\n",
              "    </tr>\n",
              "    <tr>\n",
              "      <th>9997</th>\n",
              "      <td>9998</td>\n",
              "      <td>15584532</td>\n",
              "      <td>Liu</td>\n",
              "      <td>709</td>\n",
              "      <td>France</td>\n",
              "      <td>Female</td>\n",
              "      <td>36</td>\n",
              "      <td>7</td>\n",
              "      <td>0.00</td>\n",
              "      <td>1</td>\n",
              "      <td>0</td>\n",
              "      <td>1</td>\n",
              "      <td>42085.58</td>\n",
              "      <td>1</td>\n",
              "    </tr>\n",
              "    <tr>\n",
              "      <th>9998</th>\n",
              "      <td>9999</td>\n",
              "      <td>15682355</td>\n",
              "      <td>Sabbatini</td>\n",
              "      <td>772</td>\n",
              "      <td>Germany</td>\n",
              "      <td>Male</td>\n",
              "      <td>42</td>\n",
              "      <td>3</td>\n",
              "      <td>75075.31</td>\n",
              "      <td>2</td>\n",
              "      <td>1</td>\n",
              "      <td>0</td>\n",
              "      <td>92888.52</td>\n",
              "      <td>1</td>\n",
              "    </tr>\n",
              "    <tr>\n",
              "      <th>9999</th>\n",
              "      <td>10000</td>\n",
              "      <td>15628319</td>\n",
              "      <td>Walker</td>\n",
              "      <td>792</td>\n",
              "      <td>France</td>\n",
              "      <td>Female</td>\n",
              "      <td>28</td>\n",
              "      <td>4</td>\n",
              "      <td>130142.79</td>\n",
              "      <td>1</td>\n",
              "      <td>1</td>\n",
              "      <td>0</td>\n",
              "      <td>38190.78</td>\n",
              "      <td>0</td>\n",
              "    </tr>\n",
              "  </tbody>\n",
              "</table>\n",
              "</div>"
            ],
            "text/plain": [
              "      RowNumber  CustomerId    Surname  ...  IsActiveMember EstimatedSalary Exited\n",
              "9995       9996    15606229   Obijiaku  ...               0        96270.64      0\n",
              "9996       9997    15569892  Johnstone  ...               1       101699.77      0\n",
              "9997       9998    15584532        Liu  ...               1        42085.58      1\n",
              "9998       9999    15682355  Sabbatini  ...               0        92888.52      1\n",
              "9999      10000    15628319     Walker  ...               0        38190.78      0\n",
              "\n",
              "[5 rows x 14 columns]"
            ]
          },
          "metadata": {
            "tags": []
          },
          "execution_count": 8
        }
      ]
    },
    {
      "cell_type": "code",
      "metadata": {
        "id": "4-vi2gc2Ml-x",
        "colab_type": "code",
        "colab": {
          "base_uri": "https://localhost:8080/",
          "height": 72
        },
        "outputId": "f41c76b1-c2b3-4174-dba7-79dca29ec096"
      },
      "source": [
        "# Importing essential libraries for visualizations\n",
        "import matplotlib.pyplot as plt\n",
        "import seaborn as sns\n",
        "%matplotlib inline"
      ],
      "execution_count": 9,
      "outputs": [
        {
          "output_type": "stream",
          "text": [
            "/usr/local/lib/python3.6/dist-packages/statsmodels/tools/_testing.py:19: FutureWarning: pandas.util.testing is deprecated. Use the functions in the public API at pandas.testing instead.\n",
            "  import pandas.util.testing as tm\n"
          ],
          "name": "stderr"
        }
      ]
    },
    {
      "cell_type": "code",
      "metadata": {
        "id": "vtDebZ5FMyZQ",
        "colab_type": "code",
        "colab": {
          "base_uri": "https://localhost:8080/",
          "height": 513
        },
        "outputId": "57ec761a-3b8d-41e9-d04c-a6f7b0d09261"
      },
      "source": [
        "# Visualizing the count of 'exited customers' in the dataset\n",
        "plt.figure(figsize=(8,8))\n",
        "sns.countplot(x='Exited', data=df)\n",
        "plt.xlabel('0: Customers still with the bank, 1: Customers exited the bank')\n",
        "plt.ylabel('Count')\n",
        "plt.title('Bank Customers Churn Visualization')\n",
        "plt.show()"
      ],
      "execution_count": 10,
      "outputs": [
        {
          "output_type": "display_data",
          "data": {
            "image/png": "[encoded data removed]",
            "text/plain": [
              "<Figure size 576x576 with 1 Axes>"
            ]
          },
          "metadata": {
            "tags": [],
            "needs_background": "light"
          }
        }
      ]
    },
    {
      "cell_type": "code",
      "metadata": {
        "id": "a0yxDekMNaic",
        "colab_type": "code",
        "colab": {
          "base_uri": "https://localhost:8080/",
          "height": 283
        },
        "outputId": "7b8761a7-4a4c-44eb-ca43-7d61c4b5bfe5"
      },
      "source": [
        "df.isna().any()"
      ],
      "execution_count": 11,
      "outputs": [
        {
          "output_type": "execute_result",
          "data": {
            "text/plain": [
              "RowNumber          False\n",
              "CustomerId         False\n",
              "Surname            False\n",
              "CreditScore        False\n",
              "Geography          False\n",
              "Gender             False\n",
              "Age                False\n",
              "Tenure             False\n",
              "Balance            False\n",
              "NumOfProducts      False\n",
              "HasCrCard          False\n",
              "IsActiveMember     False\n",
              "EstimatedSalary    False\n",
              "Exited             False\n",
              "dtype: bool"
            ]
          },
          "metadata": {
            "tags": []
          },
          "execution_count": 11
        }
      ]
    },
    {
      "cell_type": "code",
      "metadata": {
        "id": "v0oirsE9OlOX",
        "colab_type": "code",
        "colab": {
          "base_uri": "https://localhost:8080/",
          "height": 87
        },
        "outputId": "13b14cca-3c6a-4d9d-ecd4-c548017aab39"
      },
      "source": [
        "df.drop(['RowNumber','CustomerId','Surname'], axis=1, inplace=True)\n",
        "df.columns"
      ],
      "execution_count": 12,
      "outputs": [
        {
          "output_type": "execute_result",
          "data": {
            "text/plain": [
              "Index(['CreditScore', 'Geography', 'Gender', 'Age', 'Tenure', 'Balance',\n",
              "       'NumOfProducts', 'HasCrCard', 'IsActiveMember', 'EstimatedSalary',\n",
              "       'Exited'],\n",
              "      dtype='object')"
            ]
          },
          "metadata": {
            "tags": []
          },
          "execution_count": 12
        }
      ]
    },
    {
      "cell_type": "markdown",
      "metadata": {
        "id": "ntTXOWIqOUBp",
        "colab_type": "text"
      },
      "source": [
        "# **Feature Engineering**\n",
        "\n",
        "*Converting categorical features into numerical features using get_dummies()*"
      ]
    },
    {
      "cell_type": "code",
      "metadata": {
        "id": "sNm7RasGN5AY",
        "colab_type": "code",
        "colab": {}
      },
      "source": [
        "# Converting 'Geography' and 'Gender' column\n",
        "geography = pd.get_dummies(df['Geography'], drop_first=True)\n",
        "gender = pd.get_dummies(df['Gender'], drop_first=True)"
      ],
      "execution_count": 0,
      "outputs": []
    },
    {
      "cell_type": "code",
      "metadata": {
        "id": "dFFfzI6GPZU6",
        "colab_type": "code",
        "colab": {
          "base_uri": "https://localhost:8080/",
          "height": 87
        },
        "outputId": "4384eedc-bf56-4c68-aa1b-3f8bac1f9866"
      },
      "source": [
        "# Appending columns to original dataframe\n",
        "df = pd.concat([df, geography, gender], axis=1)\n",
        "df.columns"
      ],
      "execution_count": 14,
      "outputs": [
        {
          "output_type": "execute_result",
          "data": {
            "text/plain": [
              "Index(['CreditScore', 'Geography', 'Gender', 'Age', 'Tenure', 'Balance',\n",
              "       'NumOfProducts', 'HasCrCard', 'IsActiveMember', 'EstimatedSalary',\n",
              "       'Exited', 'Germany', 'Spain', 'Male'],\n",
              "      dtype='object')"
            ]
          },
          "metadata": {
            "tags": []
          },
          "execution_count": 14
        }
      ]
    },
    {
      "cell_type": "code",
      "metadata": {
        "id": "ipWzcjHDSuPK",
        "colab_type": "code",
        "colab": {}
      },
      "source": [
        "df.drop(['Geography', 'Gender'], axis=1, inplace=True)"
      ],
      "execution_count": 0,
      "outputs": []
    },
    {
      "cell_type": "markdown",
      "metadata": {
        "id": "Wjh7e5WDP3Kp",
        "colab_type": "text"
      },
      "source": [
        "# **Data Preprocessing**\n",
        "\n",
        "*• Split the dataset into independent features (ie: X) and label (ie: y).*\n",
        "\n",
        "*• Split the dataset further into train and test sets.*\n",
        "\n",
        "*• Apply feature scaling to train and test sets of independent features.*"
      ]
    },
    {
      "cell_type": "code",
      "metadata": {
        "id": "00u9Ikg7Pmvp",
        "colab_type": "code",
        "colab": {}
      },
      "source": [
        "X = df.drop('Exited', axis=1)\n",
        "y = df['Exited']"
      ],
      "execution_count": 0,
      "outputs": []
    },
    {
      "cell_type": "code",
      "metadata": {
        "id": "nH92-yJLQzsR",
        "colab_type": "code",
        "colab": {
          "base_uri": "https://localhost:8080/",
          "height": 34
        },
        "outputId": "c1a679b8-e033-4806-d827-6fd4db22cb27"
      },
      "source": [
        "# Splitting the dataset into train and test sets.\n",
        "from sklearn.model_selection import train_test_split\n",
        "X_train, X_test, y_train, y_test = train_test_split(X, y, test_size=0.20, random_state=0)\n",
        "print('X_train size: {}, X_test size: {}'.format(X_train.shape, X_test.shape))"
      ],
      "execution_count": 17,
      "outputs": [
        {
          "output_type": "stream",
          "text": [
            "X_train size: (8000, 11), X_test size: (2000, 11)\n"
          ],
          "name": "stdout"
        }
      ]
    },
    {
      "cell_type": "code",
      "metadata": {
        "id": "-6V7kO8bRL8Z",
        "colab_type": "code",
        "colab": {}
      },
      "source": [
        "# Feature Scaling\n",
        "from sklearn.preprocessing import StandardScaler\n",
        "sc = StandardScaler()\n",
        "X_train = sc.fit_transform(X_train)\n",
        "X_test = sc.transform(X_test)"
      ],
      "execution_count": 0,
      "outputs": []
    },
    {
      "cell_type": "markdown",
      "metadata": {
        "id": "DipuYlTfTPlQ",
        "colab_type": "text"
      },
      "source": [
        "# **Building Artificial Neural Network (ANN)**"
      ]
    },
    {
      "cell_type": "code",
      "metadata": {
        "id": "blggsEuvSpsx",
        "colab_type": "code",
        "colab": {
          "base_uri": "https://localhost:8080/",
          "height": 34
        },
        "outputId": "c9fdb2ad-8512-4329-bded-43bd49455452"
      },
      "source": [
        "# Importing the Keras libraries and packages\n",
        "import keras\n",
        "from keras.models import Sequential\n",
        "from keras.layers import Dense"
      ],
      "execution_count": 19,
      "outputs": [
        {
          "output_type": "stream",
          "text": [
            "Using TensorFlow backend.\n"
          ],
          "name": "stderr"
        }
      ]
    },
    {
      "cell_type": "code",
      "metadata": {
        "id": "JJLU_q9STmnX",
        "colab_type": "code",
        "colab": {}
      },
      "source": [
        "# Initialising the ANN\n",
        "classifier = Sequential()"
      ],
      "execution_count": 0,
      "outputs": []
    },
    {
      "cell_type": "code",
      "metadata": {
        "id": "rbomJoOQTq_p",
        "colab_type": "code",
        "colab": {}
      },
      "source": [
        "# Adding the input layer and the first hidden layer\n",
        "classifier.add(Dense(units=6, kernel_initializer='he_uniform', activation='relu', input_dim=11))"
      ],
      "execution_count": 0,
      "outputs": []
    },
    {
      "cell_type": "code",
      "metadata": {
        "id": "u6DzHseSU9uw",
        "colab_type": "code",
        "colab": {}
      },
      "source": [
        "# Adding the second hidden layer\n",
        "classifier.add(Dense(units=6, kernel_initializer='he_uniform', activation='relu'))"
      ],
      "execution_count": 0,
      "outputs": []
    },
    {
      "cell_type": "code",
      "metadata": {
        "id": "CbpD-9obVj1Z",
        "colab_type": "code",
        "colab": {}
      },
      "source": [
        "# Adding the output layer\n",
        "classifier.add(Dense(units=1, kernel_initializer='glorot_uniform', activation='sigmoid'))"
      ],
      "execution_count": 0,
      "outputs": []
    },
    {
      "cell_type": "code",
      "metadata": {
        "id": "agT54UANV8AA",
        "colab_type": "code",
        "colab": {}
      },
      "source": [
        "# Compiling the ANN\n",
        "classifier.compile(optimizer='adam', loss='binary_crossentropy', metrics=['accuracy'])"
      ],
      "execution_count": 0,
      "outputs": []
    },
    {
      "cell_type": "code",
      "metadata": {
        "id": "W9EpZTyLWRMY",
        "colab_type": "code",
        "colab": {
          "base_uri": "https://localhost:8080/",
          "height": 1000
        },
        "outputId": "34df3192-c088-41d7-ac5d-ebd4c810b9fa"
      },
      "source": [
        "# Fitting the ANN to the Training set\n",
        "model_history = classifier.fit(X_train, y_train, batch_size=10, validation_split=0.33, epochs=100)"
      ],
      "execution_count": 25,
      "outputs": [
        {
          "output_type": "stream",
          "text": [
            "/usr/local/lib/python3.6/dist-packages/ipykernel_launcher.py:2: UserWarning: The `nb_epoch` argument in `fit` has been renamed `epochs`.\n",
            "  \n"
          ],
          "name": "stderr"
        },
        {
          "output_type": "stream",
          "text": [
            "Train on 5359 samples, validate on 2641 samples\n",
            "Epoch 1/100\n",
            "5359/5359 [==============================] - 2s 426us/step - loss: 0.6735 - accuracy: 0.6085 - val_loss: 0.5133 - val_accuracy: 0.7952\n",
            "Epoch 2/100\n",
            "5359/5359 [==============================] - 2s 317us/step - loss: 0.4753 - accuracy: 0.7964 - val_loss: 0.4599 - val_accuracy: 0.7989\n",
            "Epoch 3/100\n",
            "5359/5359 [==============================] - 2s 339us/step - loss: 0.4376 - accuracy: 0.8130 - val_loss: 0.4357 - val_accuracy: 0.8164\n",
            "Epoch 4/100\n",
            "5359/5359 [==============================] - 2s 321us/step - loss: 0.4166 - accuracy: 0.8233 - val_loss: 0.4211 - val_accuracy: 0.8156\n",
            "Epoch 5/100\n",
            "5359/5359 [==============================] - 2s 316us/step - loss: 0.4010 - accuracy: 0.8311 - val_loss: 0.4071 - val_accuracy: 0.8224\n",
            "Epoch 6/100\n",
            "5359/5359 [==============================] - 2s 319us/step - loss: 0.3872 - accuracy: 0.8410 - val_loss: 0.3971 - val_accuracy: 0.8285\n",
            "Epoch 7/100\n",
            "5359/5359 [==============================] - 2s 327us/step - loss: 0.3756 - accuracy: 0.8475 - val_loss: 0.3885 - val_accuracy: 0.8311\n",
            "Epoch 8/100\n",
            "5359/5359 [==============================] - 2s 320us/step - loss: 0.3664 - accuracy: 0.8518 - val_loss: 0.3810 - val_accuracy: 0.8338\n",
            "Epoch 9/100\n",
            "5359/5359 [==============================] - 2s 341us/step - loss: 0.3598 - accuracy: 0.8545 - val_loss: 0.3769 - val_accuracy: 0.8383\n",
            "Epoch 10/100\n",
            "5359/5359 [==============================] - 2s 322us/step - loss: 0.3548 - accuracy: 0.8574 - val_loss: 0.3753 - val_accuracy: 0.8429\n",
            "Epoch 11/100\n",
            "5359/5359 [==============================] - 2s 345us/step - loss: 0.3521 - accuracy: 0.8559 - val_loss: 0.3726 - val_accuracy: 0.8417\n",
            "Epoch 12/100\n",
            "5359/5359 [==============================] - 2s 332us/step - loss: 0.3497 - accuracy: 0.8567 - val_loss: 0.3715 - val_accuracy: 0.8436\n",
            "Epoch 13/100\n",
            "5359/5359 [==============================] - 2s 337us/step - loss: 0.3479 - accuracy: 0.8586 - val_loss: 0.3693 - val_accuracy: 0.8436\n",
            "Epoch 14/100\n",
            "5359/5359 [==============================] - 2s 340us/step - loss: 0.3466 - accuracy: 0.8591 - val_loss: 0.3685 - val_accuracy: 0.8482\n",
            "Epoch 15/100\n",
            "5359/5359 [==============================] - 2s 324us/step - loss: 0.3453 - accuracy: 0.8578 - val_loss: 0.3675 - val_accuracy: 0.8501\n",
            "Epoch 16/100\n",
            "5359/5359 [==============================] - 2s 323us/step - loss: 0.3439 - accuracy: 0.8586 - val_loss: 0.3681 - val_accuracy: 0.8463\n",
            "Epoch 17/100\n",
            "5359/5359 [==============================] - 2s 325us/step - loss: 0.3435 - accuracy: 0.8599 - val_loss: 0.3660 - val_accuracy: 0.8508\n",
            "Epoch 18/100\n",
            "5359/5359 [==============================] - 2s 328us/step - loss: 0.3426 - accuracy: 0.8606 - val_loss: 0.3665 - val_accuracy: 0.8493\n",
            "Epoch 19/100\n",
            "5359/5359 [==============================] - 2s 323us/step - loss: 0.3419 - accuracy: 0.8619 - val_loss: 0.3643 - val_accuracy: 0.8482\n",
            "Epoch 20/100\n",
            "5359/5359 [==============================] - 2s 317us/step - loss: 0.3416 - accuracy: 0.8610 - val_loss: 0.3648 - val_accuracy: 0.8497\n",
            "Epoch 21/100\n",
            "5359/5359 [==============================] - 2s 318us/step - loss: 0.3406 - accuracy: 0.8608 - val_loss: 0.3631 - val_accuracy: 0.8489\n",
            "Epoch 22/100\n",
            "5359/5359 [==============================] - 2s 320us/step - loss: 0.3401 - accuracy: 0.8606 - val_loss: 0.3632 - val_accuracy: 0.8497\n",
            "Epoch 23/100\n",
            "5359/5359 [==============================] - 2s 326us/step - loss: 0.3397 - accuracy: 0.8625 - val_loss: 0.3638 - val_accuracy: 0.8478\n",
            "Epoch 24/100\n",
            "5359/5359 [==============================] - 2s 363us/step - loss: 0.3390 - accuracy: 0.8634 - val_loss: 0.3646 - val_accuracy: 0.8470\n",
            "Epoch 25/100\n",
            "5359/5359 [==============================] - 2s 324us/step - loss: 0.3387 - accuracy: 0.8619 - val_loss: 0.3628 - val_accuracy: 0.8466\n",
            "Epoch 26/100\n",
            "5359/5359 [==============================] - 2s 338us/step - loss: 0.3383 - accuracy: 0.8617 - val_loss: 0.3620 - val_accuracy: 0.8474\n",
            "Epoch 27/100\n",
            "5359/5359 [==============================] - 2s 321us/step - loss: 0.3381 - accuracy: 0.8623 - val_loss: 0.3623 - val_accuracy: 0.8459\n",
            "Epoch 28/100\n",
            "5359/5359 [==============================] - 2s 332us/step - loss: 0.3371 - accuracy: 0.8647 - val_loss: 0.3618 - val_accuracy: 0.8478\n",
            "Epoch 29/100\n",
            "5359/5359 [==============================] - 2s 334us/step - loss: 0.3371 - accuracy: 0.8643 - val_loss: 0.3619 - val_accuracy: 0.8489\n",
            "Epoch 30/100\n",
            "5359/5359 [==============================] - 2s 316us/step - loss: 0.3368 - accuracy: 0.8625 - val_loss: 0.3624 - val_accuracy: 0.8493\n",
            "Epoch 31/100\n",
            "5359/5359 [==============================] - 2s 325us/step - loss: 0.3363 - accuracy: 0.8642 - val_loss: 0.3625 - val_accuracy: 0.8470\n",
            "Epoch 32/100\n",
            "5359/5359 [==============================] - 2s 320us/step - loss: 0.3361 - accuracy: 0.8640 - val_loss: 0.3607 - val_accuracy: 0.8501\n",
            "Epoch 33/100\n",
            "5359/5359 [==============================] - 2s 323us/step - loss: 0.3357 - accuracy: 0.8640 - val_loss: 0.3611 - val_accuracy: 0.8489\n",
            "Epoch 34/100\n",
            "5359/5359 [==============================] - 2s 324us/step - loss: 0.3355 - accuracy: 0.8647 - val_loss: 0.3597 - val_accuracy: 0.8493\n",
            "Epoch 35/100\n",
            "5359/5359 [==============================] - 2s 321us/step - loss: 0.3352 - accuracy: 0.8649 - val_loss: 0.3608 - val_accuracy: 0.8485\n",
            "Epoch 36/100\n",
            "5359/5359 [==============================] - 2s 346us/step - loss: 0.3350 - accuracy: 0.8632 - val_loss: 0.3608 - val_accuracy: 0.8497\n",
            "Epoch 37/100\n",
            "5359/5359 [==============================] - 2s 318us/step - loss: 0.3342 - accuracy: 0.8640 - val_loss: 0.3591 - val_accuracy: 0.8504\n",
            "Epoch 38/100\n",
            "5359/5359 [==============================] - 2s 330us/step - loss: 0.3344 - accuracy: 0.8634 - val_loss: 0.3586 - val_accuracy: 0.8538\n",
            "Epoch 39/100\n",
            "5359/5359 [==============================] - 2s 363us/step - loss: 0.3342 - accuracy: 0.8655 - val_loss: 0.3582 - val_accuracy: 0.8519\n",
            "Epoch 40/100\n",
            "5359/5359 [==============================] - 2s 326us/step - loss: 0.3337 - accuracy: 0.8656 - val_loss: 0.3580 - val_accuracy: 0.8519\n",
            "Epoch 41/100\n",
            "5359/5359 [==============================] - 2s 337us/step - loss: 0.3331 - accuracy: 0.8660 - val_loss: 0.3582 - val_accuracy: 0.8531\n",
            "Epoch 42/100\n",
            "5359/5359 [==============================] - 2s 395us/step - loss: 0.3333 - accuracy: 0.8664 - val_loss: 0.3580 - val_accuracy: 0.8516\n",
            "Epoch 43/100\n",
            "5359/5359 [==============================] - 2s 367us/step - loss: 0.3330 - accuracy: 0.8645 - val_loss: 0.3580 - val_accuracy: 0.8519\n",
            "Epoch 44/100\n",
            "5359/5359 [==============================] - 2s 357us/step - loss: 0.3329 - accuracy: 0.8636 - val_loss: 0.3568 - val_accuracy: 0.8523\n",
            "Epoch 45/100\n",
            "5359/5359 [==============================] - 2s 340us/step - loss: 0.3326 - accuracy: 0.8662 - val_loss: 0.3586 - val_accuracy: 0.8508\n",
            "Epoch 46/100\n",
            "5359/5359 [==============================] - 2s 331us/step - loss: 0.3323 - accuracy: 0.8647 - val_loss: 0.3602 - val_accuracy: 0.8493\n",
            "Epoch 47/100\n",
            "5359/5359 [==============================] - 2s 334us/step - loss: 0.3328 - accuracy: 0.8651 - val_loss: 0.3581 - val_accuracy: 0.8497\n",
            "Epoch 48/100\n",
            "5359/5359 [==============================] - 2s 321us/step - loss: 0.3322 - accuracy: 0.8645 - val_loss: 0.3574 - val_accuracy: 0.8531\n",
            "Epoch 49/100\n",
            "5359/5359 [==============================] - 2s 347us/step - loss: 0.3322 - accuracy: 0.8647 - val_loss: 0.3571 - val_accuracy: 0.8527\n",
            "Epoch 50/100\n",
            "5359/5359 [==============================] - 2s 318us/step - loss: 0.3315 - accuracy: 0.8668 - val_loss: 0.3591 - val_accuracy: 0.8523\n",
            "Epoch 51/100\n",
            "5359/5359 [==============================] - 2s 338us/step - loss: 0.3318 - accuracy: 0.8653 - val_loss: 0.3570 - val_accuracy: 0.8523\n",
            "Epoch 52/100\n",
            "5359/5359 [==============================] - 2s 327us/step - loss: 0.3314 - accuracy: 0.8660 - val_loss: 0.3570 - val_accuracy: 0.8554\n",
            "Epoch 53/100\n",
            "5359/5359 [==============================] - 2s 325us/step - loss: 0.3317 - accuracy: 0.8670 - val_loss: 0.3571 - val_accuracy: 0.8519\n",
            "Epoch 54/100\n",
            "5359/5359 [==============================] - 2s 329us/step - loss: 0.3310 - accuracy: 0.8653 - val_loss: 0.3572 - val_accuracy: 0.8535\n",
            "Epoch 55/100\n",
            "5359/5359 [==============================] - 2s 345us/step - loss: 0.3311 - accuracy: 0.8679 - val_loss: 0.3572 - val_accuracy: 0.8516\n",
            "Epoch 56/100\n",
            "5359/5359 [==============================] - 2s 358us/step - loss: 0.3305 - accuracy: 0.8656 - val_loss: 0.3587 - val_accuracy: 0.8531\n",
            "Epoch 57/100\n",
            "5359/5359 [==============================] - 2s 338us/step - loss: 0.3305 - accuracy: 0.8668 - val_loss: 0.3559 - val_accuracy: 0.8546\n",
            "Epoch 58/100\n",
            "5359/5359 [==============================] - 2s 328us/step - loss: 0.3306 - accuracy: 0.8694 - val_loss: 0.3557 - val_accuracy: 0.8554\n",
            "Epoch 59/100\n",
            "5359/5359 [==============================] - 2s 320us/step - loss: 0.3303 - accuracy: 0.8679 - val_loss: 0.3578 - val_accuracy: 0.8527\n",
            "Epoch 60/100\n",
            "5359/5359 [==============================] - 2s 340us/step - loss: 0.3300 - accuracy: 0.8670 - val_loss: 0.3552 - val_accuracy: 0.8535\n",
            "Epoch 61/100\n",
            "5359/5359 [==============================] - 2s 327us/step - loss: 0.3298 - accuracy: 0.8660 - val_loss: 0.3562 - val_accuracy: 0.8535\n",
            "Epoch 62/100\n",
            "5359/5359 [==============================] - 2s 346us/step - loss: 0.3293 - accuracy: 0.8683 - val_loss: 0.3561 - val_accuracy: 0.8546\n",
            "Epoch 63/100\n",
            "5359/5359 [==============================] - 2s 317us/step - loss: 0.3298 - accuracy: 0.8688 - val_loss: 0.3565 - val_accuracy: 0.8531\n",
            "Epoch 64/100\n",
            "5359/5359 [==============================] - 2s 319us/step - loss: 0.3297 - accuracy: 0.8677 - val_loss: 0.3567 - val_accuracy: 0.8546\n",
            "Epoch 65/100\n",
            "5359/5359 [==============================] - 2s 319us/step - loss: 0.3293 - accuracy: 0.8681 - val_loss: 0.3584 - val_accuracy: 0.8504\n",
            "Epoch 66/100\n",
            "5359/5359 [==============================] - 2s 347us/step - loss: 0.3297 - accuracy: 0.8688 - val_loss: 0.3559 - val_accuracy: 0.8550\n",
            "Epoch 67/100\n",
            "5359/5359 [==============================] - 2s 323us/step - loss: 0.3293 - accuracy: 0.8686 - val_loss: 0.3577 - val_accuracy: 0.8519\n",
            "Epoch 68/100\n",
            "5359/5359 [==============================] - 2s 318us/step - loss: 0.3292 - accuracy: 0.8662 - val_loss: 0.3564 - val_accuracy: 0.8546\n",
            "Epoch 69/100\n",
            "5359/5359 [==============================] - 2s 335us/step - loss: 0.3293 - accuracy: 0.8675 - val_loss: 0.3567 - val_accuracy: 0.8523\n",
            "Epoch 70/100\n",
            "5359/5359 [==============================] - 2s 313us/step - loss: 0.3287 - accuracy: 0.8677 - val_loss: 0.3587 - val_accuracy: 0.8527\n",
            "Epoch 71/100\n",
            "5359/5359 [==============================] - 2s 323us/step - loss: 0.3290 - accuracy: 0.8686 - val_loss: 0.3566 - val_accuracy: 0.8531\n",
            "Epoch 72/100\n",
            "5359/5359 [==============================] - 2s 342us/step - loss: 0.3285 - accuracy: 0.8673 - val_loss: 0.3576 - val_accuracy: 0.8546\n",
            "Epoch 73/100\n",
            "5359/5359 [==============================] - 2s 346us/step - loss: 0.3289 - accuracy: 0.8683 - val_loss: 0.3563 - val_accuracy: 0.8554\n",
            "Epoch 74/100\n",
            "5359/5359 [==============================] - 2s 344us/step - loss: 0.3282 - accuracy: 0.8692 - val_loss: 0.3581 - val_accuracy: 0.8538\n",
            "Epoch 75/100\n",
            "5359/5359 [==============================] - 2s 333us/step - loss: 0.3289 - accuracy: 0.8681 - val_loss: 0.3578 - val_accuracy: 0.8516\n",
            "Epoch 76/100\n",
            "5359/5359 [==============================] - 2s 330us/step - loss: 0.3286 - accuracy: 0.8703 - val_loss: 0.3576 - val_accuracy: 0.8546\n",
            "Epoch 77/100\n",
            "5359/5359 [==============================] - 2s 320us/step - loss: 0.3284 - accuracy: 0.8671 - val_loss: 0.3561 - val_accuracy: 0.8550\n",
            "Epoch 78/100\n",
            "5359/5359 [==============================] - 2s 318us/step - loss: 0.3285 - accuracy: 0.8698 - val_loss: 0.3583 - val_accuracy: 0.8531\n",
            "Epoch 79/100\n",
            "5359/5359 [==============================] - 2s 332us/step - loss: 0.3280 - accuracy: 0.8698 - val_loss: 0.3602 - val_accuracy: 0.8512\n",
            "Epoch 80/100\n",
            "5359/5359 [==============================] - 2s 349us/step - loss: 0.3284 - accuracy: 0.8703 - val_loss: 0.3566 - val_accuracy: 0.8531\n",
            "Epoch 81/100\n",
            "5359/5359 [==============================] - 2s 336us/step - loss: 0.3286 - accuracy: 0.8671 - val_loss: 0.3568 - val_accuracy: 0.8550\n",
            "Epoch 82/100\n",
            "5359/5359 [==============================] - 2s 349us/step - loss: 0.3286 - accuracy: 0.8679 - val_loss: 0.3576 - val_accuracy: 0.8542\n",
            "Epoch 83/100\n",
            "5359/5359 [==============================] - 2s 347us/step - loss: 0.3289 - accuracy: 0.8683 - val_loss: 0.3574 - val_accuracy: 0.8557\n",
            "Epoch 84/100\n",
            "5359/5359 [==============================] - 2s 335us/step - loss: 0.3283 - accuracy: 0.8683 - val_loss: 0.3571 - val_accuracy: 0.8538\n",
            "Epoch 85/100\n",
            "5359/5359 [==============================] - 2s 348us/step - loss: 0.3284 - accuracy: 0.8684 - val_loss: 0.3570 - val_accuracy: 0.8565\n",
            "Epoch 86/100\n",
            "5359/5359 [==============================] - 2s 348us/step - loss: 0.3279 - accuracy: 0.8671 - val_loss: 0.3578 - val_accuracy: 0.8508\n",
            "Epoch 87/100\n",
            "5359/5359 [==============================] - 2s 332us/step - loss: 0.3287 - accuracy: 0.8684 - val_loss: 0.3566 - val_accuracy: 0.8580\n",
            "Epoch 88/100\n",
            "5359/5359 [==============================] - 2s 344us/step - loss: 0.3284 - accuracy: 0.8666 - val_loss: 0.3567 - val_accuracy: 0.8546\n",
            "Epoch 89/100\n",
            "5359/5359 [==============================] - 2s 331us/step - loss: 0.3279 - accuracy: 0.8679 - val_loss: 0.3589 - val_accuracy: 0.8561\n",
            "Epoch 90/100\n",
            "5359/5359 [==============================] - 2s 327us/step - loss: 0.3285 - accuracy: 0.8698 - val_loss: 0.3574 - val_accuracy: 0.8550\n",
            "Epoch 91/100\n",
            "5359/5359 [==============================] - 2s 355us/step - loss: 0.3284 - accuracy: 0.8673 - val_loss: 0.3570 - val_accuracy: 0.8538\n",
            "Epoch 92/100\n",
            "5359/5359 [==============================] - 2s 334us/step - loss: 0.3282 - accuracy: 0.8683 - val_loss: 0.3565 - val_accuracy: 0.8538\n",
            "Epoch 93/100\n",
            "5359/5359 [==============================] - 2s 329us/step - loss: 0.3279 - accuracy: 0.8681 - val_loss: 0.3565 - val_accuracy: 0.8557\n",
            "Epoch 94/100\n",
            "5359/5359 [==============================] - 2s 327us/step - loss: 0.3284 - accuracy: 0.8666 - val_loss: 0.3573 - val_accuracy: 0.8550\n",
            "Epoch 95/100\n",
            "5359/5359 [==============================] - 2s 331us/step - loss: 0.3274 - accuracy: 0.8711 - val_loss: 0.3577 - val_accuracy: 0.8557\n",
            "Epoch 96/100\n",
            "5359/5359 [==============================] - 2s 331us/step - loss: 0.3280 - accuracy: 0.8675 - val_loss: 0.3571 - val_accuracy: 0.8546\n",
            "Epoch 97/100\n",
            "5359/5359 [==============================] - 2s 325us/step - loss: 0.3274 - accuracy: 0.8688 - val_loss: 0.3595 - val_accuracy: 0.8523\n",
            "Epoch 98/100\n",
            "5359/5359 [==============================] - 2s 322us/step - loss: 0.3280 - accuracy: 0.8675 - val_loss: 0.3571 - val_accuracy: 0.8546\n",
            "Epoch 99/100\n",
            "5359/5359 [==============================] - 2s 336us/step - loss: 0.3276 - accuracy: 0.8679 - val_loss: 0.3599 - val_accuracy: 0.8527\n",
            "Epoch 100/100\n",
            "5359/5359 [==============================] - 2s 328us/step - loss: 0.3278 - accuracy: 0.8668 - val_loss: 0.3582 - val_accuracy: 0.8535\n"
          ],
          "name": "stdout"
        }
      ]
    },
    {
      "cell_type": "code",
      "metadata": {
        "id": "CrSgI4GpWXFp",
        "colab_type": "code",
        "colab": {
          "base_uri": "https://localhost:8080/",
          "height": 34
        },
        "outputId": "82ef5604-839f-49e1-cfd2-6bfd13d71410"
      },
      "source": [
        "# List all data in history\n",
        "model_history.history.keys()"
      ],
      "execution_count": 27,
      "outputs": [
        {
          "output_type": "execute_result",
          "data": {
            "text/plain": [
              "dict_keys(['val_loss', 'val_accuracy', 'loss', 'accuracy'])"
            ]
          },
          "metadata": {
            "tags": []
          },
          "execution_count": 27
        }
      ]
    },
    {
      "cell_type": "code",
      "metadata": {
        "id": "6rtH_7O4dLl0",
        "colab_type": "code",
        "colab": {
          "base_uri": "https://localhost:8080/",
          "height": 513
        },
        "outputId": "53823b5a-64f4-43f4-9e48-914823449005"
      },
      "source": [
        "# Summarize history for accuracy\n",
        "plt.figure(figsize=(8,8))\n",
        "plt.plot(model_history.history['accuracy'])\n",
        "plt.plot(model_history.history['val_accuracy'])\n",
        "plt.title('Model Accuracy')\n",
        "plt.ylabel('Accuracy')\n",
        "plt.xlabel('Epoch')\n",
        "plt.legend(['Train', 'Test'], loc='lower right')\n",
        "plt.show()"
      ],
      "execution_count": 33,
      "outputs": [
        {
          "output_type": "display_data",
          "data": {
            "image/png": "[encoded data removed]",
            "text/plain": [
              "<Figure size 576x576 with 1 Axes>"
            ]
          },
          "metadata": {
            "tags": [],
            "needs_background": "light"
          }
        }
      ]
    },
    {
      "cell_type": "code",
      "metadata": {
        "id": "725kLNbvdk2h",
        "colab_type": "code",
        "colab": {
          "base_uri": "https://localhost:8080/",
          "height": 513
        },
        "outputId": "b7152b1b-a7b2-407f-80e4-f4a5b279e818"
      },
      "source": [
        "# Summarize history for loss\n",
        "plt.figure(figsize=(8,8))\n",
        "plt.plot(model_history.history['loss'])\n",
        "plt.plot(model_history.history['val_loss'])\n",
        "plt.title('Model Loss')\n",
        "plt.ylabel('Loss')\n",
        "plt.xlabel('Epoch')\n",
        "plt.legend(['Train', 'Test'], loc='upper right')\n",
        "plt.show()"
      ],
      "execution_count": 36,
      "outputs": [
        {
          "output_type": "display_data",
          "data": {
            "image/png": "[encoded data removed]",
            "text/plain": [
              "<Figure size 576x576 with 1 Axes>"
            ]
          },
          "metadata": {
            "tags": [],
            "needs_background": "light"
          }
        }
      ]
    },
    {
      "cell_type": "markdown",
      "metadata": {
        "id": "hteoIjo-ebvS",
        "colab_type": "text"
      },
      "source": [
        "# **Model Evaluation**"
      ]
    },
    {
      "cell_type": "code",
      "metadata": {
        "id": "K1P-3Hy3efDi",
        "colab_type": "code",
        "colab": {}
      },
      "source": [
        "# Predicting the Test set results\n",
        "y_pred = classifier.predict(X_test)"
      ],
      "execution_count": 0,
      "outputs": []
    },
    {
      "cell_type": "code",
      "metadata": {
        "id": "n3SMzTNYeK_f",
        "colab_type": "code",
        "colab": {
          "base_uri": "https://localhost:8080/",
          "height": 141
        },
        "outputId": "d8c31d53-22c7-4477-b79d-84591d0aa674"
      },
      "source": [
        "y_pred"
      ],
      "execution_count": 38,
      "outputs": [
        {
          "output_type": "execute_result",
          "data": {
            "text/plain": [
              "array([[0.28123137],\n",
              "       [0.22735213],\n",
              "       [0.17295115],\n",
              "       ...,\n",
              "       [0.29134572],\n",
              "       [0.18200296],\n",
              "       [0.2689396 ]], dtype=float32)"
            ]
          },
          "metadata": {
            "tags": []
          },
          "execution_count": 38
        }
      ]
    },
    {
      "cell_type": "code",
      "metadata": {
        "id": "5xdSt7h-ez2a",
        "colab_type": "code",
        "colab": {
          "base_uri": "https://localhost:8080/",
          "height": 141
        },
        "outputId": "1759de9b-a20b-4278-f61e-a9e8f48eb154"
      },
      "source": [
        "y_pred = (y_pred > 0.5)\n",
        "y_pred"
      ],
      "execution_count": 46,
      "outputs": [
        {
          "output_type": "execute_result",
          "data": {
            "text/plain": [
              "array([[False],\n",
              "       [False],\n",
              "       [False],\n",
              "       ...,\n",
              "       [False],\n",
              "       [False],\n",
              "       [False]])"
            ]
          },
          "metadata": {
            "tags": []
          },
          "execution_count": 46
        }
      ]
    },
    {
      "cell_type": "code",
      "metadata": {
        "id": "jF6bqmNpe52h",
        "colab_type": "code",
        "colab": {
          "base_uri": "https://localhost:8080/",
          "height": 52
        },
        "outputId": "774da455-7dd6-4a45-82b6-f3c101c08541"
      },
      "source": [
        "# Making the Confusion Matrix\n",
        "from sklearn.metrics import confusion_matrix\n",
        "cm = confusion_matrix(y_test, y_pred)\n",
        "cm"
      ],
      "execution_count": 47,
      "outputs": [
        {
          "output_type": "execute_result",
          "data": {
            "text/plain": [
              "array([[1510,   85],\n",
              "       [ 200,  205]])"
            ]
          },
          "metadata": {
            "tags": []
          },
          "execution_count": 47
        }
      ]
    },
    {
      "cell_type": "code",
      "metadata": {
        "id": "QtXiWRklgBfc",
        "colab_type": "code",
        "colab": {
          "base_uri": "https://localhost:8080/",
          "height": 404
        },
        "outputId": "617e7fc6-b8dc-4f50-dfc9-d602be160a1c"
      },
      "source": [
        "# Plotting confusion matrix\n",
        "plt.figure(figsize=(8,6))\n",
        "sns.heatmap(cm, cmap='Blues', annot=True, xticklabels=['Did not Exit', 'Exit'], yticklabels=['Did not Exit', 'Exit'])\n",
        "plt.xlabel('Predicted values')\n",
        "plt.ylabel('Actual values')\n",
        "plt.title('Confusion Matrix for ANN model')\n",
        "plt.show()"
      ],
      "execution_count": 49,
      "outputs": [
        {
          "output_type": "display_data",
          "data": {
            "image/png": "[encoded data removed]",
            "text/plain": [
              "<Figure size 576x432 with 2 Axes>"
            ]
          },
          "metadata": {
            "tags": [],
            "needs_background": "light"
          }
        }
      ]
    },
    {
      "cell_type": "code",
      "metadata": {
        "id": "GBP1RzKAhJKc",
        "colab_type": "code",
        "colab": {
          "base_uri": "https://localhost:8080/",
          "height": 34
        },
        "outputId": "a2f26e3e-c15b-4428-9e1a-ea874829d3e4"
      },
      "source": [
        "# Calculate the Accuracy\n",
        "from sklearn.metrics import accuracy_score\n",
        "score = accuracy_score(y_pred,y_test)\n",
        "print('The accuracy for ANN model is: {}%'.format(score*100))"
      ],
      "execution_count": 50,
      "outputs": [
        {
          "output_type": "stream",
          "text": [
            "The accuracy for ANN model is: 85.75%\n"
          ],
          "name": "stdout"
        }
      ]
    },
    {
      "cell_type": "markdown",
      "metadata": {
        "id": "0sL3FX4rh5SK",
        "colab_type": "text"
      },
      "source": [
        "# **Predictions**"
      ]
    },
    {
      "cell_type": "code",
      "metadata": {
        "id": "vFxDPYQPh8nW",
        "colab_type": "code",
        "colab": {}
      },
      "source": [
        "def predict_exit(sample_value):\n",
        "  \n",
        "  # Convert list to numpy array\n",
        "  sample_value = np.array(sample_value)\n",
        "\n",
        "  # Reshape because sample_value contains only 1 record\n",
        "  sample_value = sample_value.reshape(1, -1)\n",
        "\n",
        "  # Feature Scaling\n",
        "  sample_value = sc.transform(sample_value)\n",
        "\n",
        "  return classifier.predict(sample_value)"
      ],
      "execution_count": 0,
      "outputs": []
    },
    {
      "cell_type": "code",
      "metadata": {
        "id": "H60e-K6Vip_h",
        "colab_type": "code",
        "colab": {
          "base_uri": "https://localhost:8080/",
          "height": 34
        },
        "outputId": "0de95cb1-1b90-45c6-eddc-2dd00d749c3c"
      },
      "source": [
        "# Predictions\n",
        "# Value order 'CreditScore','Age','Tenure','Balance','NumOfProducts','HasCrCard','IsActiveMember','EstimatedSalary','Germany','Spain','Male'.\n",
        "sample_value = [738, 62, 10, 83008.31, 1, 1, 1, 42766.03, 1, 0, 1]\n",
        "if predict_exit(sample_value)>0.5:\n",
        "  print('Prediction: High change of exit!')\n",
        "else:\n",
        "  print('Prediction: Low change of exit.')"
      ],
      "execution_count": 57,
      "outputs": [
        {
          "output_type": "stream",
          "text": [
            "Prediction: Low change of exit.\n"
          ],
          "name": "stdout"
        }
      ]
    },
    {
      "cell_type": "code",
      "metadata": {
        "id": "n3zdnwfWkT0q",
        "colab_type": "code",
        "colab": {
          "base_uri": "https://localhost:8080/",
          "height": 34
        },
        "outputId": "a1e1f00e-4a73-4d2b-a6fb-178d89b8fa3a"
      },
      "source": [
        "# Predictions\n",
        "# Value order 'CreditScore','Age','Tenure','Balance','NumOfProducts','HasCrCard','IsActiveMember','EstimatedSalary','Germany','Spain','Male'.\n",
        "sample_value = [805, 45, 9, 116585.97, 1, 1, 0, 189428.75, 1, 0, 0]\n",
        "if predict_exit(sample_value)>0.5:\n",
        "  print('Prediction: High change of exit!')\n",
        "else:\n",
        "  print('Prediction: Low change of exit.')"
      ],
      "execution_count": 58,
      "outputs": [
        {
          "output_type": "stream",
          "text": [
            "Prediction: High change of exit!\n"
          ],
          "name": "stdout"
        }
      ]
    }
  ]
}